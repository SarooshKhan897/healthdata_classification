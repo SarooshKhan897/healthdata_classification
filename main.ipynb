{
  "nbformat": 4,
  "nbformat_minor": 0,
  "metadata": {
    "colab": {
      "provenance": [],
      "include_colab_link": true
    },
    "kernelspec": {
      "name": "python3",
      "display_name": "Python 3"
    },
    "language_info": {
      "name": "python"
    }
  },
  "cells": [
    {
      "cell_type": "markdown",
      "metadata": {
        "id": "view-in-github",
        "colab_type": "text"
      },
      "source": [
        "<a href=\"https://colab.research.google.com/github/SarooshKhan897/healthdata_classification/blob/main/main.ipynb\" target=\"_parent\"><img src=\"https://colab.research.google.com/assets/colab-badge.svg\" alt=\"Open In Colab\"/></a>"
      ]
    },
    {
      "cell_type": "code",
      "execution_count": null,
      "metadata": {
        "id": "y_bqYWInvTcj"
      },
      "outputs": [],
      "source": [
        "import pandas as pd\n",
        "import json\n",
        "# pandas.read_json(\"input.json\").to_excel(\"output.xlsx\")"
      ]
    },
    {
      "cell_type": "code",
      "source": [
        "def read_file(file_name):\n",
        "    # Opening JSON file\n",
        "    f = open(file_name)\n",
        "\n",
        "    # returns JSON object as\n",
        "    # a dictionary\n",
        "    data = json.load(f)\n",
        "\n",
        "    # Iterating through the json\n",
        "    # list\n",
        "    for i in data['data']:\n",
        "        print(i)\n",
        "\n",
        "    # Closing file\n",
        "    f.close()\n",
        "    return data\n"
      ],
      "metadata": {
        "id": "xBCr01__vZCw"
      },
      "execution_count": null,
      "outputs": []
    },
    {
      "cell_type": "code",
      "source": [
        "def remove_empty_elements(d):\n",
        "    \"\"\"recursively remove empty lists, empty dicts, or None elements from a dictionary\"\"\"\n",
        "\n",
        "    def empty(x):\n",
        "        return x is None or x == {} or x == [] or x==''\n",
        "\n",
        "    if not isinstance(d, (dict, list)):\n",
        "        return d\n",
        "    elif isinstance(d, list):\n",
        "        return [v for v in (remove_empty_elements(v) for v in d) if not empty(v)]\n",
        "    else:\n",
        "        return {k: v for k, v in ((k, remove_empty_elements(v)) for k, v in d.items()) if not empty(v)}\n"
      ],
      "metadata": {
        "id": "fRVcN1miIYv5"
      },
      "execution_count": null,
      "outputs": []
    },
    {
      "cell_type": "code",
      "source": [
        "data=read_file('activity.json')\n",
        "cleaned_data=remove_empty_elements(data)\n",
        "cleaned_data"
      ],
      "metadata": {
        "id": "cvDYlUY1JttY"
      },
      "execution_count": null,
      "outputs": []
    },
    {
      "cell_type": "code",
      "source": [
        "hr_samples=cleaned_data['data'][0]['heart_rate_data']['detailed']['hr_samples']\n",
        "\n",
        "df_hr_samples = pd.DataFrame(hr_samples)\n",
        "print (df_hr_samples)\n",
        "df_hr_samples.plot(x='timestamp', y='bpm')"
      ],
      "metadata": {
        "id": "2jBLTy-bLUh0"
      },
      "execution_count": null,
      "outputs": []
    },
    {
      "cell_type": "code",
      "source": [
        "elevation_samples=cleaned_data['data'][0]['distance_data']['detailed']['elevation_samples']\n",
        "\n",
        "df_elevation_samples = pd.DataFrame(elevation_samples)\n",
        "print (df_elevation_samples)\n",
        "df_elevation_samples.plot(x='timestamp', y='elev_meters')"
      ],
      "metadata": {
        "id": "Pf8qpjY0Q2Y9"
      },
      "execution_count": null,
      "outputs": []
    },
    {
      "cell_type": "code",
      "source": [
        "from scipy import stats\n",
        "# Y and Z are numpy arrays or lists of variables\n",
        "stats.pearsonr(df_elevation_samples['elev_meters'],df_hr_samples['bpm'] )"
      ],
      "metadata": {
        "id": "yVAV_6mJ5XT0"
      },
      "execution_count": null,
      "outputs": []
    },
    {
      "cell_type": "code",
      "source": [
        "df_elevation_samples['elev_meters']"
      ],
      "metadata": {
        "id": "fuEOOYpB5vB-"
      },
      "execution_count": null,
      "outputs": []
    },
    {
      "cell_type": "code",
      "source": [
        "distance_samples=cleaned_data['data'][0]['distance_data']['detailed']['distance_samples']\n",
        "\n",
        "df_distance_samples = pd.DataFrame(distance_samples)\n",
        "print (df_distance_samples)\n",
        "df_distance_samples.plot(x='timestamp', y='distance_meters')"
      ],
      "metadata": {
        "id": "DcdafvmIVYHW"
      },
      "execution_count": null,
      "outputs": []
    },
    {
      "cell_type": "code",
      "source": [
        "lap_samples=cleaned_data['data'][0]['lap_data']['laps']\n",
        "\n",
        "df_lap_samples = pd.DataFrame(lap_samples)\n",
        "print (df_lap_samples)\n",
        "df_lap_samples.plot(x='start_time', y='calories')"
      ],
      "metadata": {
        "id": "CWUWUL5VTBan"
      },
      "execution_count": null,
      "outputs": []
    },
    {
      "cell_type": "code",
      "source": [
        "speed_samples=cleaned_data['data'][0]['movement_data']['speed_samples']\n",
        "\n",
        "df_speed_samples = pd.DataFrame(speed_samples)\n",
        "print (df_speed_samples)\n",
        "df_speed_samples.plot(x='timestamp', y='speed_meters_per_second')"
      ],
      "metadata": {
        "id": "G-89UH6DWE7q"
      },
      "execution_count": null,
      "outputs": []
    },
    {
      "cell_type": "code",
      "source": [
        "data=read_file('daily2.json')\n",
        "cleaned_data=remove_empty_elements(data)\n",
        "cleaned_data"
      ],
      "metadata": {
        "id": "izWst_OFS3Lq"
      },
      "execution_count": null,
      "outputs": []
    },
    {
      "cell_type": "code",
      "source": [
        "hr_samples=cleaned_data['data'][0]['heart_rate_data']['detailed']['hr_samples']\n",
        "\n",
        "df_hr_samples = pd.DataFrame(hr_samples)\n",
        "print (df_hr_samples)\n",
        "df_hr_samples.plot(x='timestamp', y='bpm')"
      ],
      "metadata": {
        "id": "UQNubqBRKw7y"
      },
      "execution_count": null,
      "outputs": []
    },
    {
      "cell_type": "code",
      "source": [
        "hr_samples=cleaned_data['data'][0]['MET_data']['MET_samples']\n",
        "\n",
        "df_hr_samples = pd.DataFrame(hr_samples)\n",
        "print (df_hr_samples)\n",
        "df_hr_samples.plot(x='timestamp', y='level')"
      ],
      "metadata": {
        "id": "ZRUbLoDvK_vZ"
      },
      "execution_count": null,
      "outputs": []
    },
    {
      "cell_type": "code",
      "source": [
        "data=read_file('daily.json')\n",
        "cleaned_data=remove_empty_elements(data)\n",
        "cleaned_data"
      ],
      "metadata": {
        "id": "bdWzkC_ULkFX"
      },
      "execution_count": null,
      "outputs": []
    },
    {
      "cell_type": "code",
      "source": [
        "data=read_file('sleep.json')\n",
        "cleaned_data=remove_empty_elements(data)\n",
        "cleaned_data"
      ],
      "metadata": {
        "id": "fUClTe4mLv1e"
      },
      "execution_count": null,
      "outputs": []
    },
    {
      "cell_type": "code",
      "source": [
        "data=read_file('nutrition.json')\n",
        "cleaned_data=remove_empty_elements(data)\n",
        "cleaned_data"
      ],
      "metadata": {
        "id": "1ebxDIHoLwll"
      },
      "execution_count": null,
      "outputs": []
    },
    {
      "cell_type": "code",
      "source": [
        "data=read_file('body.json')\n",
        "cleaned_data=remove_empty_elements(data)\n",
        "cleaned_data"
      ],
      "metadata": {
        "id": "VciJD_iPLz33"
      },
      "execution_count": null,
      "outputs": []
    },
    {
      "cell_type": "code",
      "source": [
        "data=read_file('menstruation.json')\n",
        "cleaned_data=remove_empty_elements(data)\n",
        "cleaned_data"
      ],
      "metadata": {
        "id": "BrQKmGnnL0ek"
      },
      "execution_count": null,
      "outputs": []
    }
  ]
}